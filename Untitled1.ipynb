{
 "cells": [
  {
   "cell_type": "code",
   "execution_count": 1,
   "id": "5ed6aea9-0ad9-4a28-b9ee-40d69abed75a",
   "metadata": {},
   "outputs": [
    {
     "name": "stdout",
     "output_type": "stream",
     "text": [
      "b'<?xml version=\"1.0\" encoding=\"UTF-8\" ?>\\n<!DOCTYPE eInfoResult PUBLIC \"-//NLM//DTD einfo 20190110//EN\" \"https://eutils.ncbi.nlm.nih.gov/eutils/dtd/20190110/einfo.dtd\">\\n<eInfoResult>\\n<DbList>\\n\\n\\t<DbName>pubmed</DbName>\\n\\t<DbName>protein</DbName>\\n\\t<DbName>nuccore</DbName>\\n\\t<DbName>ipg</DbName>\\n\\t<DbName>nucleotide</DbName>\\n\\t<DbName>structure</DbName>\\n\\t<DbName>genome</DbName>\\n\\t<DbName>annotinfo</DbName>\\n\\t<DbName>assembly</DbName>\\n\\t<DbName>bioproject</DbName>\\n\\t<DbName>biosample</DbName>\\n\\t<DbName>blastdbinfo</DbName>\\n\\t<DbName>books</DbName>\\n\\t<DbName>cdd</DbName>\\n\\t<DbName>clinvar</DbName>\\n\\t<DbName>gap</DbName>\\n\\t<DbName>gapplus</DbName>\\n\\t<DbName>grasp</DbName>\\n\\t<DbName>dbvar</DbName>\\n\\t<DbName>gene</DbName>\\n\\t<DbName>gds</DbName>\\n\\t<DbName>geoprofiles</DbName>\\n\\t<DbName>homologene</DbName>\\n\\t<DbName>medgen</DbName>\\n\\t<DbName>mesh</DbName>\\n\\t<DbName>ncbisearch</DbName>\\n\\t<DbName>nlmcatalog</DbName>\\n\\t<DbName>omim</DbName>\\n\\t<DbName>orgtrack</DbName>\\n\\t<DbName>pmc</DbName>\\n\\t<DbName>popset</DbName>\\n\\t<DbName>proteinclusters</DbName>\\n\\t<DbName>pcassay</DbName>\\n\\t<DbName>protfam</DbName>\\n\\t<DbName>biosystems</DbName>\\n\\t<DbName>pccompound</DbName>\\n\\t<DbName>pcsubstance</DbName>\\n\\t<DbName>seqannot</DbName>\\n\\t<DbName>snp</DbName>\\n\\t<DbName>sra</DbName>\\n\\t<DbName>taxonomy</DbName>\\n\\t<DbName>biocollections</DbName>\\n\\t<DbName>gtr</DbName>\\n</DbList>\\n\\n</eInfoResult>\\n'\n"
     ]
    }
   ],
   "source": [
    "from Bio import Entrez\n",
    "Entrez.email = \"localuser@localhost.localdomain\" #Mandatory! Can be replaced with your personal email.\n",
    "\n",
    "#creating handle\n",
    "handle = Entrez.einfo() #invoking Bio.Entrez.einfo()\n",
    "print(handle.read())\n",
    "handle.close() #always close your handle after you finish"
   ]
  },
  {
   "cell_type": "code",
   "execution_count": 4,
   "id": "1d9f3c5b-6b21-4883-9d69-e044e6f406d5",
   "metadata": {},
   "outputs": [
    {
     "name": "stdout",
     "output_type": "stream",
     "text": [
      "{'Count': '58', 'RetMax': '20', 'RetStart': '0', 'IdList': ['2077486320', '2077483948', '2077483947', '2077483945', '2077483944', '2077483901', '2077483900', '2077481542', '2077481541', '2077481539', '2076539383', '2076537289', '2076534810', '2076528979', '2076526459', '2076521085', '2076518480', '2076515798', '2076512188', '2076506438'], 'TranslationSet': [{'From': 'Solanum tuberosum', 'To': '\"Solanum tuberosum\"[Organism] OR Solanum tuberosum[All Fields]'}], 'TranslationStack': [{'Term': '\"Solanum tuberosum\"[Organism]', 'Field': 'Organism', 'Count': '475675', 'Explode': 'Y'}, {'Term': 'Solanum tuberosum[All Fields]', 'Field': 'All Fields', 'Count': '535338', 'Explode': 'N'}, 'OR', 'GROUP', {'Term': 'matK[All Fields]', 'Field': 'All Fields', 'Count': '240456', 'Explode': 'N'}, 'AND', 'GROUP'], 'QueryTranslation': '(\"Solanum tuberosum\"[Organism] OR Solanum tuberosum[All Fields]) AND matK[All Fields]'}\n"
     ]
    }
   ],
   "source": [
    "#creating handle\n",
    "handle = Entrez.esearch(db=\"nuccore\", term=\"Solanum tuberosum matK\")\n",
    "record = Entrez.read(handle)\n",
    "print(record)\n",
    "handle.close() #always close your handle after you finish"
   ]
  },
  {
   "cell_type": "code",
   "execution_count": 3,
   "id": "ea30d9d0-ea46-4c30-8fad-c0995d2572f1",
   "metadata": {},
   "outputs": [
    {
     "name": "stdout",
     "output_type": "stream",
     "text": [
      "LOCUS       MH285777                 844 bp    DNA     linear   PLN 31-JUL-2018\n",
      "DEFINITION  Solanum tuberosum isolate STM maturase K (matK) gene, partial cds;\n",
      "            chloroplast.\n",
      "ACCESSION   MH285777\n",
      "VERSION     MH285777.1\n",
      "KEYWORDS    .\n",
      "SOURCE      chloroplast Solanum tuberosum (potato)\n",
      "  ORGANISM  Solanum tuberosum\n",
      "            Eukaryota; Viridiplantae; Streptophyta; Embryophyta; Tracheophyta;\n",
      "            Spermatophyta; Magnoliopsida; eudicotyledons; Gunneridae;\n",
      "            Pentapetalae; asterids; lamiids; Solanales; Solanaceae;\n",
      "            Solanoideae; Solaneae; Solanum.\n",
      "REFERENCE   1  (bases 1 to 844)\n",
      "  AUTHORS   Abhinash,G.N., Tantwai,K., Tiwari,S. and Rajput,L.P.S.\n",
      "  TITLE     DNA barcoding of medicinally important plants of family Solanaceae\n",
      "  JOURNAL   Unpublished\n",
      "REFERENCE   2  (bases 1 to 844)\n",
      "  AUTHORS   Abhinash,G.N., Tantwai,K., Tiwari,S. and Rajput,L.P.S.\n",
      "  TITLE     Direct Submission\n",
      "  JOURNAL   Submitted (03-MAY-2018) Biotechnology Centre, Jawaharlal Nehru\n",
      "            Krishi Vishwa Vidyalaya, Adhartal, Jabalpur, Madhya Pradesh 482004,\n",
      "            India\n",
      "COMMENT     ##Assembly-Data-START##\n",
      "            Sequencing Technology :: Sanger dideoxy sequencing\n",
      "            ##Assembly-Data-END##\n",
      "FEATURES             Location/Qualifiers\n",
      "     source          1..844\n",
      "                     /organism=\"Solanum tuberosum\"\n",
      "                     /organelle=\"plastid:chloroplast\"\n",
      "                     /mol_type=\"genomic DNA\"\n",
      "                     /isolate=\"STM\"\n",
      "                     /db_xref=\"taxon:4113\"\n",
      "                     /country=\"India\"\n",
      "                     /lat_lon=\"23.16877000 N 79.93184700 E\"\n",
      "                     /collection_date=\"07-Nov-2017\"\n",
      "                     /note=\"authority: Solanum tuberosum Jawaharlal Nehru\n",
      "                     Krishi Vishwa Vidyalaya, Jabalpur\"\n",
      "     gene            complement(<1..>844)\n",
      "                     /gene=\"matK\"\n",
      "     CDS             complement(<1..>844)\n",
      "                     /gene=\"matK\"\n",
      "                     /EC_number=\"2.7.10.2\"\n",
      "                     /codon_start=1\n",
      "                     /transl_table=11\n",
      "                     /product=\"maturase K\"\n",
      "                     /protein_id=\"AXG25473.1\"\n",
      "                     /translation=\"YPVHLEILVQTLRYWVKDASSLHLLRFFLHEYCNLNSLITSKKP\n",
      "                     GYSFSKKNQRFFFFLYNSYVYECESTFVFLRNQSSHLRSTSFGALLERIYFYGKIERL\n",
      "                     VEVFAKDFQVTLWLFKDPFMHYVRYEGKSILASKGTFPLMNKWKFYLVNFWQCHFSMY\n",
      "                     FHTGRIHINQLSNHSRDFMGYLSSVRLNHSMVRSQMLENSFLINNPIKKFETLVPIIP\n",
      "                     LIGSLAKAHFCTVLGHPISKPVWSDLSDSDIIDRFGRICRNLFHYYSGSSKKKTLYRI\n",
      "                     KYILR\"\n",
      "ORIGIN      \n",
      "        1 gtcgaagtat atactttatt cgatataaag tctttttttt ggaagatccg ctataataat\n",
      "       61 gaaaaagatt tctgcatata cgcccaaatc ggtcaataat atcagaatct gataaatcgg\n",
      "      121 accaaactgg tttactaatg ggatgcccta atacggtaca aaagtgtgct ttagctaatg\n",
      "      181 atccaatcaa aggaataatt ggaacaaggg tctcgaactt cttaattgga ttattgatta\n",
      "      241 gaaatgaatt ttctaacatt tgactacgta ccattgaatg atttagtcgc acacttgaaa\n",
      "      301 gatagcccat aaagtcacgg gaatggttgg ataattggtt tatatggatc cttcctgtgt\n",
      "      361 gaaagtacat agaaaaatga cattgccaaa aattgacaag gtaaaatttc catttattca\n",
      "      421 tcaaaggaaa cgtccctttt gaagccagaa ttgattttcc ttcataccta acataatgca\n",
      "      481 tgaaaggatc cttgaataac catagggtaa cctgaaaatc cttagcaaag acttctacaa\n",
      "      541 gacgttctat ttttccatag aaatatattc gttcaagaag ggctccaaaa gatgttgatc\n",
      "      601 gtaaatgaga agattggttc cgtagaaaga cgaaagtgga ttcgcattca tatacataag\n",
      "      661 aattatataa gaagaagaag aatctttgat ttttttttga aaaggagtaa ccgggcttct\n",
      "      721 ttgaagtaat aagactattc aaattacaat attcgtggag aaagaatcgt aataaatgta\n",
      "      781 aagaagaggc atcttttacc caatagcgaa gagtttgaac caagatttcc agatggacgg\n",
      "      841 ggta\n",
      "//\n",
      "\n",
      "\n"
     ]
    }
   ],
   "source": [
    "#creating EFetch handle\n",
    "efetch_handle = Entrez.efetch(db=\"nuccore\", id=\"MH285777\", rettype=\"gb\", retmode=\"text\")\n",
    "gbrecord = efetch_handle.read()\n",
    "print(gbrecord)"
   ]
  },
  {
   "cell_type": "code",
   "execution_count": 5,
   "id": "735def25-2fde-4d69-8ae7-b20a646503ee",
   "metadata": {},
   "outputs": [
    {
     "name": "stdout",
     "output_type": "stream",
     "text": [
      ">MH285777.1 Solanum tuberosum isolate STM maturase K (matK) gene, partial cds; chloroplast\n",
      "GTCGAAGTATATACTTTATTCGATATAAAGTCTTTTTTTTGGAAGATCCGCTATAATAATGAAAAAGATT\n",
      "TCTGCATATACGCCCAAATCGGTCAATAATATCAGAATCTGATAAATCGGACCAAACTGGTTTACTAATG\n",
      "GGATGCCCTAATACGGTACAAAAGTGTGCTTTAGCTAATGATCCAATCAAAGGAATAATTGGAACAAGGG\n",
      "TCTCGAACTTCTTAATTGGATTATTGATTAGAAATGAATTTTCTAACATTTGACTACGTACCATTGAATG\n",
      "ATTTAGTCGCACACTTGAAAGATAGCCCATAAAGTCACGGGAATGGTTGGATAATTGGTTTATATGGATC\n",
      "CTTCCTGTGTGAAAGTACATAGAAAAATGACATTGCCAAAAATTGACAAGGTAAAATTTCCATTTATTCA\n",
      "TCAAAGGAAACGTCCCTTTTGAAGCCAGAATTGATTTTCCTTCATACCTAACATAATGCATGAAAGGATC\n",
      "CTTGAATAACCATAGGGTAACCTGAAAATCCTTAGCAAAGACTTCTACAAGACGTTCTATTTTTCCATAG\n",
      "AAATATATTCGTTCAAGAAGGGCTCCAAAAGATGTTGATCGTAAATGAGAAGATTGGTTCCGTAGAAAGA\n",
      "CGAAAGTGGATTCGCATTCATATACATAAGAATTATATAAGAAGAAGAAGAATCTTTGATTTTTTTTTGA\n",
      "AAAGGAGTAACCGGGCTTCTTTGAAGTAATAAGACTATTCAAATTACAATATTCGTGGAGAAAGAATCGT\n",
      "AATAAATGTAAAGAAGAGGCATCTTTTACCCAATAGCGAAGAGTTTGAACCAAGATTTCCAGATGGACGG\n",
      "GGTA\n",
      "\n",
      "\n"
     ]
    }
   ],
   "source": [
    "#creating EFetch handle\n",
    "efetch_handle = Entrez.efetch(db=\"nuccore\", id=\"MH285777\", rettype=\"fasta\", retmode=\"text\")\n",
    "gbrecord = efetch_handle.read()\n",
    "print(gbrecord)"
   ]
  },
  {
   "cell_type": "code",
   "execution_count": 6,
   "id": "a6041f33-254d-4f9c-849c-36f372f24978",
   "metadata": {},
   "outputs": [
    {
     "name": "stdout",
     "output_type": "stream",
     "text": [
      "FASTA download\n"
     ]
    }
   ],
   "source": [
    "import os\n",
    "#creating EFetch handle\n",
    "filename = \"Solanum tuberosum matK.fasta\" #up to you, but FASTA files always use *.fasta or *.fas \n",
    "\n",
    "#creating EFetch handle\n",
    "if not os.path.isfile(filename):\n",
    "    # Downloading file...\n",
    "    efetch_handle = Entrez.efetch(db=\"nuccore\", id=\"MH285777\", rettype=\"fasta\", retmode=\"text\")\n",
    "    output_file_handle = open(filename, \"w\")\n",
    "    output_file_handle.write(efetch_handle.read())\n",
    "    output_file_handle.close()\n",
    "    efetch_handle.close()\n",
    "print (\"FASTA download\")"
   ]
  },
  {
   "cell_type": "code",
   "execution_count": 7,
   "id": "513a0ce4-621e-42cf-8519-ce3fd5ec200b",
   "metadata": {},
   "outputs": [
    {
     "name": "stdout",
     "output_type": "stream",
     "text": [
      "GB download\n"
     ]
    }
   ],
   "source": [
    "\n",
    "#creating EFetch handle\n",
    "filename = \"Solanum tuberosum complete chloroplast.gbk\" #up to you, but Genbank files always use *.gb or *.gbk \n",
    "\n",
    "#creating EFetch handle\n",
    "if not os.path.isfile(filename):\n",
    "    # Downloading file...\n",
    "    efetch_handle = Entrez.efetch(db=\"nuccore\", id=\"KM489056\", rettype=\"gb\", retmode=\"text\")\n",
    "    output_file_handle = open(filename, \"w\")\n",
    "    output_file_handle.write(efetch_handle.read())\n",
    "    output_file_handle.close()\n",
    "    efetch_handle.close()\n",
    "print (\"GB download\")\n",
    "\n"
   ]
  },
  {
   "cell_type": "code",
   "execution_count": 8,
   "id": "0cd1f8c0-e3dd-46c5-a1d6-d4b5dedbbb7f",
   "metadata": {},
   "outputs": [
    {
     "name": "stdout",
     "output_type": "stream",
     "text": [
      ">matK|Solanum tuberosum chloroplast, complete genome\n",
      "ATGGAAGAAATCCACAGATATTTACAGCCAGATAGCTCGCAACAACACAACTTCCTATATCCACTTATCTTTCAGGAGTATATTTATGCACTTGCTCAGGATCATGGTTTAAATAGAAATAGGTCGATTTTGTTGGAAAATTCAGGTTATAACAATAAATTGAGTTTCCTAATTGTGAAACGGTTAATTACTCGAATGTATCAACAGAATCATTTTATTATTTCGACTAATGATTCTAACAAAAATCCGTTTTTGGGGTGCAACAAGAGTTTGTATTCTCAAATGATATCAGAGGGGTTTGCATGTATTGTGGAAATTCCGTTTTCTATACGATTAATATCTTCTTTATCTTCTTTCGAAGGCAAAAAGATTTTCAAATCTCATAATTTACGATCAATTCATTCAACATTTCCTTTTTTAGAGGACAATTTTGCACATCTAAATTATGTATTAGATATACTAATACCCTACCCCGTTCATCTGGAAATCTTGGTTCAAACTCTTCGCTATTGGGTAAAAGATGCCTCTTCTTTACATTTATTACGATTCTTTCTCCACGAATATTGTAATTTGAATAGTCTTATTACTTCAAAGAAGCCCGGTTACTCCTTTTCAAAAAAAAATCAAAGATTCTTCTTCTTCTTATATAATTCTTATGTATATGAATGCGAATCCACTTTCGTCTTTCTACGGAACCAATCTTCTCATTTACGATCAACATCTTTTGGAGCCCTTCTTGAACGAATATATTTCTATGGAAAAATAGAACGTCTTGTAGAAGTCTTTGCTAAGGATTTTCAGGTTACCCTATGGTTATTCAAGGATCCTTTCATGCATTATGTTAGGTATGAAGGAAAATCAATTCTGGCTTCAAAAGGGACGTTTCCTTTGATGAATAAATGGAAATTTTACCTTGTCAATTTTTGGCAATGTCATTTTTCTATGTACTTTCACACAGGAAGGATCCATATAAACCAATTATCCAACCATTCCCGTGACTTTATGGGCTATCTTTCAAGTGTGCGACTAAATCATTCAATGGTACGTAGTCAAATGTTAGAAAATTCATTTCTAATCAATAATCCAATTAAGAAGTTCGAGACCCTTGTTCCAATTATTCCTTTGATTGGATCATTAGCTAAAGCACACTTTTGTACCGTATTAGGGCATCCCATTAGTAAACCAGTTTGGTCCGATTTATCAGATTCTGATATTATTGACCGATTTGGGCGTATATGCAGAAATCTTTTTCATTATTATAGCGGATCTTCCAAAAAAAAGACTTTATATCGAATAAAGTATATACTTCGACTTTCTTGTGCTAGAACTTTAGCTCGGAAACACAAAAGTACTGTACGCACTTTTTTGAAAAGATCGGGCTCGGAATTATTGGAAGAATTCTTAACGTCGGAAGAACAAGTTCTTTCTTTGACCTTCCCACGAGCTTCGTCTAGTTTGTGGGGAGTATATAGAAGTCGGATTTGGTATTTGGATATTTTTTGTATCAATGATCTGGCGAATTATCAATGA\n"
     ]
    }
   ],
   "source": [
    "from Bio import SeqIO\n",
    "GoI = \"matK\" #change \" matK\" here with your GoI\n",
    "\n",
    "for genome in SeqIO.parse(\"Solanum tuberosum complete chloroplast.gbk\",\"genbank\"):\n",
    "    for gene in genome.features:\n",
    "        if gene.type != \"CDS\":\n",
    "            continue\n",
    "        if \"gene\" not in gene.qualifiers:\n",
    "            continue\n",
    "        if GoI not in gene.qualifiers[\"gene\"][0]: \n",
    "            continue\n",
    "        gene_seq = gene.extract(genome.seq)\n",
    "\n",
    "GoI_fasta = \">%s|%s\\n%s\" % (GoI, genome.description, gene_seq)\n",
    "print(GoI_fasta)\n"
   ]
  },
  {
   "cell_type": "code",
   "execution_count": 9,
   "id": "4836c7e5-a3f3-4d93-a7fb-cbeaa4c344da",
   "metadata": {},
   "outputs": [
    {
     "name": "stdout",
     "output_type": "stream",
     "text": [
      "FASTA download\n"
     ]
    }
   ],
   "source": [
    "#creating EFetch handle\n",
    "filename = \"Solanum tuberosum complete chloroplast matK.fasta\" #up to you, but Genbank files always use *.gb or *.gbk \n",
    "\n",
    "#creating EFetch handle\n",
    "if not os.path.isfile(filename):\n",
    "    # Downloading file...\n",
    "    efetch_handle = Entrez.efetch(db=\"nuccore\", id=\"KM489056\", rettype=\"fasta\", retmode=\"text\")\n",
    "    output_file_handle = open(filename, \"w\")\n",
    "    output_file_handle.write(efetch_handle.read())\n",
    "    output_file_handle.close()\n",
    "    efetch_handle.close()\n",
    "print (\"FASTA download\")"
   ]
  },
  {
   "cell_type": "code",
   "execution_count": 10,
   "id": "c0223c2c-57bd-486c-868d-dc8eb87ab946",
   "metadata": {},
   "outputs": [
    {
     "name": "stdout",
     "output_type": "stream",
     "text": [
      "FASTA download\n"
     ]
    }
   ],
   "source": [
    "#creating EFetch handle\n",
    "filename = \"GoI.fasta\" #up to you, but Genbank files always use *.gb or *.gbk \n",
    "\n",
    "#creating EFetch handle\n",
    "if not os.path.isfile(filename):\n",
    "    # Downloading file...\n",
    "    efetch_handle = Entrez.efetch(db=\"nuccore\", id=\"KM489056\", rettype=\"fasta\", retmode=\"text\")\n",
    "    output_file_handle = open(filename, \"w\")\n",
    "    output_file_handle.write(efetch_handle.read())\n",
    "    output_file_handle.close()\n",
    "    efetch_handle.close()\n",
    "print (\"FASTA download\")"
   ]
  },
  {
   "cell_type": "code",
   "execution_count": null,
   "id": "ad7a3961-b48e-4502-96f7-a528dc418f21",
   "metadata": {},
   "outputs": [],
   "source": []
  }
 ],
 "metadata": {
  "kernelspec": {
   "display_name": "Python 3 (ipykernel)",
   "language": "python",
   "name": "python3"
  },
  "language_info": {
   "codemirror_mode": {
    "name": "ipython",
    "version": 3
   },
   "file_extension": ".py",
   "mimetype": "text/x-python",
   "name": "python",
   "nbconvert_exporter": "python",
   "pygments_lexer": "ipython3",
   "version": "3.8.12"
  }
 },
 "nbformat": 4,
 "nbformat_minor": 5
}
